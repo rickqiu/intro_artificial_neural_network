{
 "cells": [
  {
   "cell_type": "markdown",
   "metadata": {},
   "source": [
    "# Logistic Regression Gradient Descent\n",
    "\n",
    "@author: Rick Qiu (2021)\n",
    "\n",
    "The notebook illustrates the implementation of a Logistic Regression gradient descent algorithm. Although the algorithm has the “Regression” in its name, it aims to solve a binary classification problem where its hypothesis is a logistic function.\n",
    "\n",
    "$$ f(x) = \\dfrac{1}{1+e^{-\\theta^Tx}}$$\n",
    "\n",
    "The cost function used for logistic regression is the average of the log loss across all training examples:\n",
    "\n",
    "$$\\mathcal{J}(\\theta) = -\\dfrac{1}{m} \\left[\\sum_{i=1}^m y^{(i)}\\,log\\, h_\\theta(x^{(i)}) + (1-y^{(i)})\\,log\\,(1-h_\\theta(x^{(i)}))\\right]$$\n",
    "\n",
    "Derivatives of the cost function w.r.t $\\theta$ :\n",
    "\n",
    "$$\\dfrac{\\partial \\mathcal J}{\\partial \\theta_j} = \\dfrac{1}{m} \\sum_{i=1}^m(h_\\theta(x^{(i)}) - y^{(i)})x_j^{(i)}$$\n",
    "\n",
    "Gradient descent update :\n",
    "\n",
    "$$ \\theta_j := \\theta_j - \\alpha \\dfrac{\\partial \\mathcal J}{\\partial \\theta_j}$$  \n",
    "\n",
    "**Resource**\n",
    "\n",
    "Andrew NG, [cs229-notes1 - Logistic regression](https://see.stanford.edu/materials/aimlcs229/cs229-notes1.pdf), stanford.edu\n"
   ]
  },
  {
   "cell_type": "code",
   "execution_count": 1,
   "metadata": {},
   "outputs": [
    {
     "name": "stdout",
     "output_type": "stream",
     "text": [
      "Once deleted, variables cannot be recovered. Proceed (y/[n])? y\n"
     ]
    }
   ],
   "source": [
    "%reset"
   ]
  },
  {
   "cell_type": "code",
   "execution_count": 2,
   "metadata": {},
   "outputs": [],
   "source": [
    "import numpy as np\n",
    "from sklearn.datasets import make_blobs\n",
    "from sklearn.metrics import accuracy_score\n",
    "from sklearn.model_selection import train_test_split\n",
    "import matplotlib.pyplot as plt\n",
    "%matplotlib inline"
   ]
  },
  {
   "cell_type": "markdown",
   "metadata": {},
   "source": [
    "**Intuition of the Cross-Entropy (CE) loss function**"
   ]
  },
  {
   "cell_type": "code",
   "execution_count": 3,
   "metadata": {},
   "outputs": [
    {
     "data": {
      "image/png": "[encoded data removed]",
      "text/plain": [
       "<Figure size 432x288 with 1 Axes>"
      ]
     },
     "metadata": {
      "needs_background": "light"
     },
     "output_type": "display_data"
    }
   ],
   "source": [
    "x = np.arange(0.001, 1, 0.001)\n",
    "y = -np.log(x)\n",
    "plt.plot(x,y, color='C1', label='y=1')\n",
    "y = -np.log(1-x)\n",
    "plt.plot(x,y, color='C0', label='y=0')\n",
    "plt.legend()\n",
    "plt.xlabel('h(x)')\n",
    "plt.ylabel('loss')\n",
    "plt.title('Cross-Entropy')\n",
    "plt.show()"
   ]
  },
  {
   "cell_type": "markdown",
   "metadata": {},
   "source": [
    "The loss function for a single training example is\n",
    "$$Loss = -1 (y^{(i)}\\,log\\, h_\\theta(x^{(i)}) + (1-y^{(i)})\\,log\\,(1-h_\\theta(x^{(i)})))$$\n",
    "\n"
   ]
  },
  {
   "cell_type": "code",
   "execution_count": 5,
   "metadata": {},
   "outputs": [],
   "source": [
    "# verify that when the model predicts close to 0 but the actual label is 1, the loss is a large positive value\n",
    "-1 * np.log(0.0001) # loss is about 9.2"
   ]
  },
  {
   "cell_type": "code",
   "execution_count": 6,
   "metadata": {},
   "outputs": [],
   "source": [
    "# verify that when the model predicts close to 1, but the actual label is 0, the loss is a large positive value\n",
    "-1 * (1 - 0) * np.log(1 - 0.9999) # loss is about 9.2"
   ]
  },
  {
   "cell_type": "markdown",
   "metadata": {},
   "source": [
    "## The Data"
   ]
  },
  {
   "cell_type": "code",
   "execution_count": 7,
   "metadata": {},
   "outputs": [],
   "source": [
    "# Generate data\n",
    "X,y = make_blobs(n_samples=400,centers=2,n_features=2,random_state=0)"
   ]
  },
  {
   "cell_type": "code",
   "execution_count": 8,
   "metadata": {},
   "outputs": [],
   "source": [
    "# Split the data into training and test dataset\n",
    "X_train, X_test, y_train, y_test = train_test_split(X, y, test_size=0.4, random_state=42)"
   ]
  },
  {
   "cell_type": "code",
   "execution_count": 10,
   "metadata": {},
   "outputs": [],
   "source": [
    "plt.title('Scatter plot for train dataset')\n",
    "plt.scatter(X_train[(y_train==0),0], X_train[(y_train==0),1], alpha=0.6, label='Class 0')\n",
    "plt.scatter(X_train[(y_train==1),0], X_train[(y_train==1),1], alpha=0.6, label='Class 1')\n",
    "plt.legend()\n",
    "plt.show()"
   ]
  },
  {
   "cell_type": "markdown",
   "metadata": {},
   "source": [
    "## Model Implementation"
   ]
  },
  {
   "cell_type": "code",
   "execution_count": 11,
   "metadata": {},
   "outputs": [],
   "source": [
    "def learning_curve(costs):\n",
    "    plt.title('LogisticRegressionGD Learning Curve')\n",
    "    plt.xlabel('Epochs')\n",
    "    plt.ylabel('Cost')\n",
    "    plt.plot(costs, linewidth=2., label=\"train_loss\")\n",
    "    plt.show()"
   ]
  },
  {
   "cell_type": "code",
   "execution_count": 12,
   "metadata": {},
   "outputs": [],
   "source": [
    "def sigmoid(z):\n",
    "    return 1/(1 + np.exp(-z))"
   ]
  },
  {
   "cell_type": "code",
   "execution_count": 13,
   "metadata": {},
   "outputs": [],
   "source": [
    "def cost_func(theta,X,y):\n",
    "    m = len(X) #number of training examples\n",
    "    H = sigmoid(np.sum(X * theta, axis=1)) #hypothesis\n",
    "    J = sum(-y * np.log(H) - (1 - y)*np.log(1 - H)) / m #compute cost\n",
    "    grad = np.dot(X.T, (H - y)) / m #compute gradient \n",
    "    return J, grad"
   ]
  },
  {
   "cell_type": "code",
   "execution_count": 14,
   "metadata": {},
   "outputs": [],
   "source": [
    "def LogRegGD(X, y, alpha, n_epoch, learn_curve=False):\n",
    "    \"\"\"\n",
    "    X: the training examples\n",
    "    y: the target labels\n",
    "    alpha: the learning rate\n",
    "    n_epoch: the number of epoches\n",
    "    learn_curve: whether or not to plot a learning curve\n",
    "    \"\"\"\n",
    "    costs = [] # Collect costs for learning curve plot\n",
    "    \n",
    "    np.random.seed(1) # Set the random seed to get reproducible result\n",
    "    theta = np.random.uniform(-1, 1, X.shape[1]) # Initializing the coefficients\n",
    "    \n",
    "    for epoch in range(n_epoch):\n",
    "        cost, grad = cost_func(theta, X, y)\n",
    "        theta = theta - alpha * grad # Gradient descent update\n",
    "        costs.append(cost)\n",
    "        \n",
    "    if learn_curve == True:\n",
    "        learning_curve(costs)\n",
    "           \n",
    "    return theta"
   ]
  },
  {
   "cell_type": "markdown",
   "metadata": {},
   "source": [
    "## Model Training"
   ]
  },
  {
   "cell_type": "code",
   "execution_count": 15,
   "metadata": {},
   "outputs": [],
   "source": [
    "# Add ones to the first column for biases\n",
    "X_train_b = np.hstack((np.ones(len(X_train)).reshape(-1,1),X_train))\n",
    "X_test_b = np.hstack((np.ones(len(X_test)).reshape(-1,1),X_test))"
   ]
  },
  {
   "cell_type": "code",
   "execution_count": 17,
   "metadata": {
    "scrolled": true
   },
   "outputs": [],
   "source": [
    "# Train the model\n",
    "alpha = 0.01 # learning rate\n",
    "n_epoch = 10000\n",
    "theta = LogRegGD(X_train_b, y_train, alpha, n_epoch, True)"
   ]
  },
  {
   "cell_type": "code",
   "execution_count": 19,
   "metadata": {},
   "outputs": [],
   "source": [
    "theta"
   ]
  },
  {
   "cell_type": "markdown",
   "metadata": {},
   "source": [
    "## Model Performance"
   ]
  },
  {
   "cell_type": "code",
   "execution_count": 25,
   "metadata": {},
   "outputs": [],
   "source": [
    "# Make predictions on train dataset\n",
    "preds = sigmoid(np.sum(X_train_b * theta, axis=1))\n",
    "preds = [1 if p >= 0.5 else 0 for p in preds]\n",
    "print('Accuracy on train dataset:', accuracy_score(y_train, preds))"
   ]
  },
  {
   "cell_type": "code",
   "execution_count": 27,
   "metadata": {},
   "outputs": [],
   "source": [
    "# Make predictions on test dataset\n",
    "preds = sigmoid(np.sum(X_test_b * theta, axis=1))\n",
    "preds = [1 if p >= 0.5 else 0 for p in preds]\n",
    "accuracy_score(y_test, preds)"
   ]
  },
  {
   "cell_type": "markdown",
   "metadata": {},
   "source": [
    "## Decision Boundary"
   ]
  },
  {
   "cell_type": "code",
   "execution_count": 29,
   "metadata": {},
   "outputs": [],
   "source": [
    "# Create meshgrid data points\n",
    "x_min, x_max = X[:, 0].min() - 1, X[:, 0].max() + 1\n",
    "y_min, y_max = X[:, 1].min() - 1, X[:, 1].max() + 1\n",
    "xx, yy = np.meshgrid(np.arange(x_min, x_max, 0.05), np.arange(y_min, y_max, 0.05))\n",
    "\n",
    "data = np.hstack((np.ones(len(xx.ravel())).reshape(-1,1), np.c_[xx.ravel(), yy.ravel()]))\n",
    "Z = sigmoid(np.sum(data * theta, axis=1))\n",
    "Z = [1 if p >= 0.5 else 0 for p in Z]\n",
    "\n",
    "# Plot the decision boundary\n",
    "plt.contourf(xx, yy, np.array(Z).reshape(xx.shape[0], xx.shape[1]), cmap='RdBu')\n",
    "plt.scatter(X_test[:, 0], X_test[:, 1], c=y_test, edgecolors='k', cmap='Paired')\n",
    "plt.title('Decision Surface')\n",
    "plt.show()"
   ]
  },
  {
   "cell_type": "markdown",
   "metadata": {},
   "source": [
    "The logistic regression divides the feature space using a straight line. It is a linear model, after all.\n",
    "However, we can add more depth to the decision surface by using the model to predict probabilities instead of class labels."
   ]
  },
  {
   "cell_type": "code",
   "execution_count": 32,
   "metadata": {},
   "outputs": [],
   "source": [
    "# Plot the decision boundary\n",
    "Z = sigmoid(np.sum(data * theta, axis=1))\n",
    "c = plt.contourf(xx, yy, np.array(Z).reshape(xx.shape[0], xx.shape[1]), cmap='RdBu')\n",
    "plt.colorbar(c)\n",
    "plt.scatter(X_test[:, 0], X_test[:, 1], c=y_test, edgecolors='k', cmap='Paired')\n",
    "plt.title('Probability Decision Surface')\n",
    "plt.show()"
   ]
  }
 ],
 "metadata": {
  "kernelspec": {
   "display_name": "Python 3",
   "language": "python",
   "name": "python3"
  },
  "language_info": {
   "codemirror_mode": {
    "name": "ipython",
    "version": 3
   },
   "file_extension": ".py",
   "mimetype": "text/x-python",
   "name": "python",
   "nbconvert_exporter": "python",
   "pygments_lexer": "ipython3",
   "version": "3.7.7"
  }
 },
 "nbformat": 4,
 "nbformat_minor": 4
}
