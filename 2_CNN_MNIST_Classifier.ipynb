{
 "cells": [
  {
   "cell_type": "markdown",
   "metadata": {
    "id": "cJLBmq_2V3h2"
   },
   "source": [
    "# MNIST Handwritten Digits Image Classification Task\n",
    "\n",
    "@author: Rick Qiu (2021)\n",
    "\n",
    "<span style=\"color:red\">NOTE: </span> The model training may take about 1 hour on CPU. Recommend to use a GPU which is 20x faster than a CPU."
   ]
  },
  {
   "cell_type": "markdown",
   "metadata": {
    "id": "eXra7iwPV3h6"
   },
   "source": [
    "The ConvNet model is LeNet-5, a pioneering 7 layers Convolutional Neural Network by LeCun et al. in 1998.\n",
    "\n",
    "The MNIST training data set can be downnloaded from Kaggle.The train.csv file contains gray-scale images of hand-written digits, from zero through nine. Each image has 28 pixels in height and 28 pixels in width. The pixel-value is an integer between 0 and 255, inclusive.\n",
    "\n",
    "The data set has 785 columns. The first column, called \"label\", is the digit that was drawn by the user. The rest of the columns contain the pixel-values of the associated image.\n",
    "\n",
    "**Resources**\n",
    "\n",
    "Yann LeCun, Leon Bottou, Yoshua Bengio, and Patrick Haffner (1998), Gradient-Based Learning Applied to Document (http://yann.lecun.com/exdb/publis/pdf/lecun-01a.pdf)\n",
    "\n",
    "MNIST(\"Modified National Institute of Standards and Technology\") handwritten digits [dataset](https://www.kaggle.com/c/digit-recognizer/data) from Kaggle"
   ]
  },
  {
   "cell_type": "markdown",
   "metadata": {
    "id": "6vQRpM2eV3h8"
   },
   "source": [
    "## LeNet-5 Architecture\n"
   ]
  },
  {
   "cell_type": "markdown",
   "metadata": {
    "id": "P66nauGoV3h8"
   },
   "source": [
    "LeNet-5 is a classic Convolutional Neural Network by LeCun et al.[1] in 1998. It comprises 7 layers (excluding the input layer). Layer 1 is a Convolutional layer, then followed by a Subsampling layer as Layer 2. Layer 3 is another Convolutional layer, then followed by another Subsampling layer as Layer 4. After the second Subsampling layer, there are 2 fully connected feed-forward neural networks Layer 5 and Layer 6. Layer 7 is the output layer.\n",
    "\n",
    "<img src=\"image/lenet5.png\" alt=\"LeNet-5\" height=\"178\" width=\"625\"> \n",
    "\n",
    "\n",
    "#### Layer 1: Convolutional layer\n",
    "Input: 32x32x1 $\\quad Conv: f=5x5, s=1, c=6\\quad$ Output: 28x28x6 $\\quad$ Weights:5 x 5 x 6 + 6 = 156\n",
    "#### Layer 2: Pooling layer\n",
    "Input: 28x28x6 $\\quad Pooling: f=2, s=2 \\quad$ Output:14x14x6\n",
    "#### Layer 3: Convolutional layer\n",
    "Input: 14x14x6 $\\quad Conv: f=5x5, s=1, c=16\\quad$ Output:10x10x16 $\\quad$ Weights: 5 x 5 x 16 x 6 + 16 = 2416\n",
    "#### Layer 4: Pooling layer\n",
    "Input: 10x10x16 $\\quad Pooling: f=2, s=2 \\quad$ Output:5x5x16\n",
    "#### Layer 5: Fully Connected layer\n",
    "Input:5x5x16 $\\quad Activation: a_{n}^{[5]}=120 \\quad$ Output:1x120\n",
    "#### Layer 6: Fully Connected layer\n",
    "Input:120 $\\quad Activation: a_{n}^{[L-1]}=84 \\quad$ Output:1x84\n",
    "#### Layer 7:Output layer\n",
    "Input:84 $\\quad Activation: a_{n}^{[L]}=10 \\quad$ Output:1x10"
   ]
  },
  {
   "cell_type": "markdown",
   "metadata": {
    "id": "HWf-AGO6V3h-"
   },
   "source": [
    "## Data Preprocessing"
   ]
  },
  {
   "cell_type": "code",
   "execution_count": 1,
   "metadata": {
    "colab": {
     "base_uri": "https://localhost:8080/",
     "height": 35
    },
    "id": "HC-z_nb2V3h_",
    "outputId": "8a2aadc1-83e6-47dd-d81f-0f34887b9fc1"
   },
   "outputs": [
    {
     "data": {
      "text/plain": [
       "'2.4.0'"
      ]
     },
     "execution_count": 1,
     "metadata": {},
     "output_type": "execute_result"
    }
   ],
   "source": [
    "import numpy as np\n",
    "import pandas as pd\n",
    "import itertools\n",
    "\n",
    "from sklearn.model_selection import train_test_split\n",
    "from sklearn.metrics import accuracy_score\n",
    "from sklearn.metrics import confusion_matrix\n",
    "from sklearn.metrics import classification_report\n",
    "from sklearn import preprocessing\n",
    "\n",
    "from tensorflow import keras \n",
    "from tensorflow.keras.optimizers import Adam\n",
    "from tensorflow.keras.utils import to_categorical \n",
    "from tensorflow.keras.models import Sequential, load_model\n",
    "from tensorflow.keras.layers import ZeroPadding2D, Conv2D, MaxPooling2D, Flatten, Dense, Activation\n",
    "from tensorflow.keras.layers import Dropout, BatchNormalization\n",
    "from tensorflow.keras.callbacks import ModelCheckpoint\n",
    "import tensorflow as tf\n",
    "\n",
    "import matplotlib.pyplot as plt\n",
    "%matplotlib inline\n",
    "tf.__version__"
   ]
  },
  {
   "cell_type": "code",
   "execution_count": 2,
   "metadata": {
    "colab": {
     "base_uri": "https://localhost:8080/"
    },
    "id": "VduXOIcEV3iA",
    "outputId": "fea9b863-0c88-48d5-8ec0-f2e73816ae7c",
    "scrolled": true
   },
   "outputs": [
    {
     "name": "stdout",
     "output_type": "stream",
     "text": [
      "         Dataframe Info\n",
      "----------------------------------------\n",
      "<class 'pandas.core.frame.DataFrame'>\n",
      "RangeIndex: 42000 entries, 0 to 41999\n",
      "Columns: 785 entries, label to pixel783\n",
      "dtypes: int64(785)\n",
      "memory usage: 251.5 MB\n",
      "----------------------------------------\n",
      "\n",
      "         Dataset Info\n",
      "----------------------------------------\n",
      "<class 'numpy.ndarray'>\n",
      "dimension: (42000, 785)\n",
      "----------------------------------------\n"
     ]
    }
   ],
   "source": [
    "# Load data from CSV file\n",
    "#df = pd.read_csv('/content/drive/MyDrive/data/train.csv')\n",
    "df = pd.read_csv('data/train.csv')\n",
    "dataset = df.values\n",
    "\n",
    "print(\"         Dataframe Info\")\n",
    "print(\"----------------------------------------\")\n",
    "df.info()\n",
    "print(\"----------------------------------------\")\n",
    "print()\n",
    "print(\"         Dataset Info\")\n",
    "print(\"----------------------------------------\")\n",
    "print(type(dataset))\n",
    "print(\"dimension: %s\" % str(dataset.shape))\n",
    "print(\"----------------------------------------\")"
   ]
  },
  {
   "cell_type": "markdown",
   "metadata": {
    "id": "3eTV1mxqV3iC"
   },
   "source": [
    "Find null and missing values"
   ]
  },
  {
   "cell_type": "code",
   "execution_count": 5,
   "metadata": {
    "colab": {
     "base_uri": "https://localhost:8080/"
    },
    "id": "1PLUneySV3iC",
    "outputId": "d9fe3f84-c3ef-43b1-9c22-ca69e7a6a891"
   },
   "outputs": [
    {
     "name": "stdout",
     "output_type": "stream",
     "text": [
      "Number of NaN and missing values: 0\n",
      "Dataset datatype: int64\n"
     ]
    }
   ],
   "source": [
    "n_nan = df.isnull().sum().sum()\n",
    "print(\"Number of NaN and missing values: %d\" % n_nan)\n",
    "print(\"Dataset datatype: %s\" % dataset.dtype)"
   ]
  },
  {
   "cell_type": "markdown",
   "metadata": {
    "id": "MCn9f1eEV3iD"
   },
   "source": [
    "The data set is good. It does not have any null and missing values.\n",
    "\n",
    "The data set will be split to 80% for training, the remaining 20% will be split to 10% for validation and 10% for test."
   ]
  },
  {
   "cell_type": "code",
   "execution_count": 6,
   "metadata": {
    "id": "8Z67Gq_rV3iG"
   },
   "outputs": [],
   "source": [
    "# Extract pixel values per image\n",
    "X = dataset[:,1:]\n",
    "# Extract labels\n",
    "y = dataset[:,0]\n",
    "\n",
    "# Split dataset into train, validation and test (80:10:10) \n",
    "X_train, X_tmp, y_train, y_tmp = train_test_split(X, y, test_size=0.2, random_state=42)\n",
    "X_val, X_test, y_val, y_test = train_test_split(X_tmp, y_tmp, test_size=0.5, random_state=42)"
   ]
  },
  {
   "cell_type": "code",
   "execution_count": 7,
   "metadata": {
    "colab": {
     "base_uri": "https://localhost:8080/"
    },
    "id": "VWmLXYE7zI7l",
    "outputId": "ad6eb48a-4185-4263-b685-730804d252ea"
   },
   "outputs": [
    {
     "data": {
      "text/plain": [
       "(33600, 784)"
      ]
     },
     "execution_count": 7,
     "metadata": {
      "tags": []
     },
     "output_type": "execute_result"
    }
   ],
   "source": [
    "X_train.shape"
   ]
  },
  {
   "cell_type": "code",
   "execution_count": 8,
   "metadata": {
    "colab": {
     "base_uri": "https://localhost:8080/",
     "height": 297
    },
    "id": "Rtu1yPGGV3iD",
    "outputId": "f73013e9-d05d-4361-9e1c-8f25b6570b2f"
   },
   "outputs": [
    {
     "data": {
      "image/png": "[encoded data removed]",
      "text/plain": [
       "<Figure size 432x288 with 1 Axes>"
      ]
     },
     "metadata": {
      "needs_background": "light",
      "tags": []
     },
     "output_type": "display_data"
    }
   ],
   "source": [
    "# Plot the frequency table for each digit in training dataset\n",
    "freq_df = pd.DataFrame(y_train, columns=['label'])\n",
    "frequency_table = freq_df['label'].value_counts(ascending=False)\n",
    "frequency_table.plot(kind='bar')\n",
    "plt.title('Distribution for target label')\n",
    "plt.xlabel('label')\n",
    "plt.ylabel('Frequency')\n",
    "plt.xticks(rotation = 45)\n",
    "plt.yticks(rotation = 45)\n",
    "plt.show()"
   ]
  },
  {
   "cell_type": "markdown",
   "metadata": {
    "id": "NYaPzf0FV3iF"
   },
   "source": [
    "\n",
    "We are to display 50 images from the training dataset and add a label on top of each image."
   ]
  },
  {
   "cell_type": "code",
   "execution_count": 9,
   "metadata": {
    "colab": {
     "base_uri": "https://localhost:8080/",
     "height": 295
    },
    "id": "WR3Ne6aNV3iF",
    "outputId": "fadbc27c-9edc-47ac-9095-5e9e24853b62"
   },
   "outputs": [
    {
     "data": {
      "image/png": "[encoded data removed]",
      "text/plain": [
       "<Figure size 360x360 with 50 Axes>"
      ]
     },
     "metadata": {
      "needs_background": "light",
      "tags": []
     },
     "output_type": "display_data"
    }
   ],
   "source": [
    "def display_images(images, labels, n_images):\n",
    "    \"\"\"Display images and labels \"\"\"\n",
    "    plt.figure(figsize=(5,5))\n",
    "    m = np.ceil(n_images/10)\n",
    "\n",
    "    for i in range(n_images):\n",
    "        plt.subplot(m,10,1+i)\n",
    "        plt.title(labels[i])\n",
    "        plt.axis('off')\n",
    "        plt.imshow(images[i].reshape(28,28), cmap=plt.cm.binary)\n",
    "\n",
    "# Display 50 original images and labels\n",
    "display_images(X_train[0:50,:], y_train[0:50], 50)\n"
   ]
  },
  {
   "cell_type": "markdown",
   "metadata": {
    "id": "oa7ZQSIMvx6v"
   },
   "source": [
    "### Feature scaling"
   ]
  },
  {
   "cell_type": "code",
   "execution_count": 10,
   "metadata": {
    "id": "Arg3b080nyOX"
   },
   "outputs": [],
   "source": [
    "# features scalling\n",
    "scaler = preprocessing.MinMaxScaler().fit(X_train)\n",
    "#scaler = preprocessing.StandardScaler().fit(X_train)\n",
    "X_train_scaled = scaler.transform(X_train)\n",
    "X_val_scaled = scaler.transform(X_val)\n",
    "X_test_scaled = scaler.transform(X_test)"
   ]
  },
  {
   "cell_type": "markdown",
   "metadata": {
    "id": "S_RVyGosV3iI"
   },
   "source": [
    "### Padding X and One-hot encoding y\n",
    "The LeNet-5 Input is a 32x32 gray-scale image. So, we add 2 pixels with zeros on each side of the image to make a 28x28 image to 32x32 image. Padding the border of an image has the effect of not losing information near the borders after the first convolution operation because an output image has the same size as the original image size 28x28.  \n",
    "\n",
    "One-hot encoding for a label value 3 is to create a vector $[0,0,0,1,0,0,0,0,0,0]$ to represent 3, which means that only the number at index 3 is one, others are all zeros."
   ]
  },
  {
   "cell_type": "code",
   "execution_count": 11,
   "metadata": {
    "id": "yqBwtJwMV3iI"
   },
   "outputs": [],
   "source": [
    "# Reshape the training, validation and test dataset\n",
    "X_train_scaled = X_train_scaled.reshape(X_train_scaled.shape[0], 28, 28, 1)\n",
    "X_test_scaled = X_test_scaled.reshape(X_test_scaled.shape[0], 28, 28, 1)\n",
    "X_val_scaled = X_val_scaled.reshape(X_val_scaled.shape[0], 28, 28, 1)\n",
    "\n",
    "# Padding the images by 2 pixels to make 32x32 images\n",
    "X_train_scaled = np.pad(X_train_scaled, ((0,0),(2,2),(2,2),(0,0)), 'constant')\n",
    "X_test_scaled = np.pad(X_test_scaled, ((0,0),(2,2),(2,2),(0,0)), 'constant')\n",
    "X_val_scaled = np.pad(X_val_scaled, ((0,0),(2,2),(2,2),(0,0)), 'constant')\n",
    "\n",
    "# Label One-hot encoding\n",
    "y_train = to_categorical(y_train)\n",
    "y_val= to_categorical(y_val)"
   ]
  },
  {
   "cell_type": "markdown",
   "metadata": {
    "id": "OXMxUmmBV3iJ"
   },
   "source": [
    "## Modelling"
   ]
  },
  {
   "cell_type": "code",
   "execution_count": 12,
   "metadata": {
    "colab": {
     "base_uri": "https://localhost:8080/"
    },
    "id": "hhc_W7YcV3iJ",
    "outputId": "b6a1972c-7b42-494b-c0e3-3c192c3ed962"
   },
   "outputs": [
    {
     "name": "stdout",
     "output_type": "stream",
     "text": [
      "Model: \"sequential\"\n",
      "_________________________________________________________________\n",
      "Layer (type)                 Output Shape              Param #   \n",
      "=================================================================\n",
      "conv2d (Conv2D)              (None, 28, 28, 6)         156       \n",
      "_________________________________________________________________\n",
      "batch_normalization (BatchNo (None, 28, 28, 6)         24        \n",
      "_________________________________________________________________\n",
      "activation (Activation)      (None, 28, 28, 6)         0         \n",
      "_________________________________________________________________\n",
      "max_pooling2d (MaxPooling2D) (None, 14, 14, 6)         0         \n",
      "_________________________________________________________________\n",
      "conv2d_1 (Conv2D)            (None, 10, 10, 16)        2416      \n",
      "_________________________________________________________________\n",
      "batch_normalization_1 (Batch (None, 10, 10, 16)        64        \n",
      "_________________________________________________________________\n",
      "activation_1 (Activation)    (None, 10, 10, 16)        0         \n",
      "_________________________________________________________________\n",
      "max_pooling2d_1 (MaxPooling2 (None, 5, 5, 16)          0         \n",
      "_________________________________________________________________\n",
      "flatten (Flatten)            (None, 400)               0         \n",
      "_________________________________________________________________\n",
      "dense (Dense)                (None, 120)               48120     \n",
      "_________________________________________________________________\n",
      "batch_normalization_2 (Batch (None, 120)               480       \n",
      "_________________________________________________________________\n",
      "activation_2 (Activation)    (None, 120)               0         \n",
      "_________________________________________________________________\n",
      "dropout (Dropout)            (None, 120)               0         \n",
      "_________________________________________________________________\n",
      "dense_1 (Dense)              (None, 84)                10164     \n",
      "_________________________________________________________________\n",
      "batch_normalization_3 (Batch (None, 84)                336       \n",
      "_________________________________________________________________\n",
      "activation_3 (Activation)    (None, 84)                0         \n",
      "_________________________________________________________________\n",
      "dropout_1 (Dropout)          (None, 84)                0         \n",
      "_________________________________________________________________\n",
      "dense_2 (Dense)              (None, 10)                850       \n",
      "=================================================================\n",
      "Total params: 62,610\n",
      "Trainable params: 62,158\n",
      "Non-trainable params: 452\n",
      "_________________________________________________________________\n",
      "None\n"
     ]
    }
   ],
   "source": [
    "def cnn_model():\n",
    "    model = Sequential()\n",
    "    \n",
    "    # Layer 1\n",
    "    # Convolutional Layer 1\n",
    "    model.add(Conv2D(filters=6, kernel_size=5, strides=1, \n",
    "                     kernel_initializer='glorot_normal', input_shape=(32,32,1)))\n",
    "    model.add(BatchNormalization())\n",
    "    model.add(Activation('relu'))\n",
    "    \n",
    "    # Layer 2\n",
    "    # Pooling layer 1\n",
    "    model.add(MaxPooling2D(pool_size=2,strides=2))\n",
    "    \n",
    "    # Layer 3\n",
    "    # Convolutional Layer 2\n",
    "    model.add(Conv2D(filters =16, kernel_size=5, strides=1, \n",
    "                     kernel_initializer='glorot_normal', input_shape=(14,14,6)))\n",
    "    model.add(BatchNormalization())\n",
    "    model.add(Activation('relu'))\n",
    "    \n",
    "    # Layer 4\n",
    "    # Pooling Layer 2\n",
    "    model.add(MaxPooling2D(pool_size=2, strides=2))\n",
    "    \n",
    "    # Flatten\n",
    "    model.add(Flatten())\n",
    "   \n",
    "    # Layer 5        \n",
    "    # Fully connected layer 1\n",
    "    model.add(Dense(units=120, kernel_initializer='glorot_normal', \n",
    "                    activity_regularizer=tf.keras.regularizers.l2(0.001)))\n",
    "\n",
    "    model.add(BatchNormalization())\n",
    "    model.add(Activation('relu'))\n",
    "    model.add(Dropout(0.5))\n",
    "    \n",
    "    # Layer 6          \n",
    "    # Fully connected layer 2\n",
    "    model.add(Dense(units=84, kernel_initializer='glorot_normal', \n",
    "                    activity_regularizer=tf.keras.regularizers.l2(0.001)))\n",
    "    model.add(BatchNormalization())\n",
    "    model.add(Activation('relu'))\n",
    "    model.add(Dropout(0.5))\n",
    "    \n",
    "    # Layer 7\n",
    "    # Output Layer\n",
    "    model.add(Dense(units=10, activation ='softmax'))\n",
    "   \n",
    "    return model\n",
    "\n",
    "model = cnn_model()\n",
    "print(model.summary())"
   ]
  },
  {
   "cell_type": "markdown",
   "metadata": {
    "id": "fp9sotXYV3iK"
   },
   "source": [
    "## Model Training\n"
   ]
  },
  {
   "cell_type": "code",
   "execution_count": 13,
   "metadata": {
    "colab": {
     "base_uri": "https://localhost:8080/"
    },
    "id": "Mn7tUo_qV3iL",
    "outputId": "11b287cb-1de2-4278-9649-ee7c6328155d",
    "scrolled": true
   },
   "outputs": [
    {
     "name": "stdout",
     "output_type": "stream",
     "text": [
      "Epoch 1/100\n",
      "263/263 [==============================] - 8s 7ms/step - loss: 1.4620 - accuracy: 0.6020 - val_loss: 0.4422 - val_accuracy: 0.9395\n",
      "Epoch 2/100\n",
      "263/263 [==============================] - 1s 5ms/step - loss: 0.4167 - accuracy: 0.9240 - val_loss: 0.1621 - val_accuracy: 0.9764\n",
      "Epoch 3/100\n",
      "263/263 [==============================] - 1s 5ms/step - loss: 0.2646 - accuracy: 0.9536 - val_loss: 0.1379 - val_accuracy: 0.9798\n",
      "Epoch 4/100\n",
      "263/263 [==============================] - 1s 5ms/step - loss: 0.2013 - accuracy: 0.9627 - val_loss: 0.1062 - val_accuracy: 0.9840\n",
      "Epoch 5/100\n",
      "263/263 [==============================] - 1s 5ms/step - loss: 0.1610 - accuracy: 0.9684 - val_loss: 0.0954 - val_accuracy: 0.9836\n",
      "Epoch 6/100\n",
      "263/263 [==============================] - 1s 5ms/step - loss: 0.1369 - accuracy: 0.9737 - val_loss: 0.0857 - val_accuracy: 0.9843\n",
      "Epoch 7/100\n",
      "263/263 [==============================] - 1s 5ms/step - loss: 0.1189 - accuracy: 0.9753 - val_loss: 0.0709 - val_accuracy: 0.9867\n",
      "Epoch 8/100\n",
      "263/263 [==============================] - 1s 5ms/step - loss: 0.1168 - accuracy: 0.9775 - val_loss: 0.0636 - val_accuracy: 0.9879\n",
      "Epoch 9/100\n",
      "263/263 [==============================] - 1s 5ms/step - loss: 0.0985 - accuracy: 0.9802 - val_loss: 0.0709 - val_accuracy: 0.9860\n",
      "Epoch 10/100\n",
      "263/263 [==============================] - 1s 5ms/step - loss: 0.0934 - accuracy: 0.9813 - val_loss: 0.0715 - val_accuracy: 0.9845\n",
      "Epoch 11/100\n",
      "263/263 [==============================] - 1s 5ms/step - loss: 0.0878 - accuracy: 0.9810 - val_loss: 0.0625 - val_accuracy: 0.9883\n",
      "Epoch 12/100\n",
      "263/263 [==============================] - 1s 5ms/step - loss: 0.0791 - accuracy: 0.9828 - val_loss: 0.0578 - val_accuracy: 0.9902\n",
      "Epoch 13/100\n",
      "263/263 [==============================] - 1s 5ms/step - loss: 0.0734 - accuracy: 0.9836 - val_loss: 0.0545 - val_accuracy: 0.9874\n",
      "Epoch 14/100\n",
      "263/263 [==============================] - 1s 5ms/step - loss: 0.0694 - accuracy: 0.9845 - val_loss: 0.0562 - val_accuracy: 0.9883\n",
      "Epoch 15/100\n",
      "263/263 [==============================] - 1s 5ms/step - loss: 0.0664 - accuracy: 0.9845 - val_loss: 0.0645 - val_accuracy: 0.9869\n",
      "Epoch 16/100\n",
      "263/263 [==============================] - 1s 5ms/step - loss: 0.0672 - accuracy: 0.9851 - val_loss: 0.0507 - val_accuracy: 0.9888\n",
      "Epoch 17/100\n",
      "263/263 [==============================] - 1s 5ms/step - loss: 0.0645 - accuracy: 0.9862 - val_loss: 0.0553 - val_accuracy: 0.9879\n",
      "Epoch 18/100\n",
      "263/263 [==============================] - 1s 5ms/step - loss: 0.0561 - accuracy: 0.9868 - val_loss: 0.0613 - val_accuracy: 0.9871\n",
      "Epoch 19/100\n",
      "263/263 [==============================] - 1s 5ms/step - loss: 0.0547 - accuracy: 0.9882 - val_loss: 0.0510 - val_accuracy: 0.9898\n",
      "Epoch 20/100\n",
      "263/263 [==============================] - 1s 5ms/step - loss: 0.0537 - accuracy: 0.9885 - val_loss: 0.0507 - val_accuracy: 0.9888\n",
      "Epoch 21/100\n",
      "263/263 [==============================] - 1s 5ms/step - loss: 0.0496 - accuracy: 0.9898 - val_loss: 0.0646 - val_accuracy: 0.9864\n",
      "Epoch 22/100\n",
      "263/263 [==============================] - 1s 5ms/step - loss: 0.0514 - accuracy: 0.9893 - val_loss: 0.0600 - val_accuracy: 0.9871\n",
      "Epoch 23/100\n",
      "263/263 [==============================] - 1s 5ms/step - loss: 0.0525 - accuracy: 0.9885 - val_loss: 0.0513 - val_accuracy: 0.9879\n",
      "Epoch 24/100\n",
      "263/263 [==============================] - 1s 5ms/step - loss: 0.0486 - accuracy: 0.9895 - val_loss: 0.0577 - val_accuracy: 0.9881\n",
      "Epoch 25/100\n",
      "263/263 [==============================] - 1s 5ms/step - loss: 0.0492 - accuracy: 0.9894 - val_loss: 0.0523 - val_accuracy: 0.9888\n",
      "Epoch 26/100\n",
      "263/263 [==============================] - 1s 5ms/step - loss: 0.0503 - accuracy: 0.9885 - val_loss: 0.0533 - val_accuracy: 0.9888\n",
      "Epoch 27/100\n",
      "263/263 [==============================] - 1s 5ms/step - loss: 0.0478 - accuracy: 0.9898 - val_loss: 0.0664 - val_accuracy: 0.9876\n",
      "Epoch 28/100\n",
      "263/263 [==============================] - 1s 5ms/step - loss: 0.0449 - accuracy: 0.9906 - val_loss: 0.0586 - val_accuracy: 0.9876\n",
      "Epoch 29/100\n",
      "263/263 [==============================] - 1s 5ms/step - loss: 0.0479 - accuracy: 0.9899 - val_loss: 0.0593 - val_accuracy: 0.9888\n",
      "Epoch 30/100\n",
      "263/263 [==============================] - 1s 5ms/step - loss: 0.0428 - accuracy: 0.9897 - val_loss: 0.0569 - val_accuracy: 0.9890\n",
      "Epoch 31/100\n",
      "263/263 [==============================] - 1s 5ms/step - loss: 0.0417 - accuracy: 0.9895 - val_loss: 0.0481 - val_accuracy: 0.9910\n",
      "Epoch 32/100\n",
      "263/263 [==============================] - 1s 6ms/step - loss: 0.0401 - accuracy: 0.9912 - val_loss: 0.0580 - val_accuracy: 0.9888\n",
      "Epoch 33/100\n",
      "263/263 [==============================] - 1s 5ms/step - loss: 0.0396 - accuracy: 0.9910 - val_loss: 0.0532 - val_accuracy: 0.9893\n",
      "Epoch 34/100\n",
      "263/263 [==============================] - 1s 5ms/step - loss: 0.0448 - accuracy: 0.9890 - val_loss: 0.0553 - val_accuracy: 0.9893\n",
      "Epoch 35/100\n",
      "263/263 [==============================] - 1s 5ms/step - loss: 0.0386 - accuracy: 0.9917 - val_loss: 0.0585 - val_accuracy: 0.9888\n",
      "Epoch 36/100\n",
      "263/263 [==============================] - 1s 5ms/step - loss: 0.0405 - accuracy: 0.9911 - val_loss: 0.0607 - val_accuracy: 0.9881\n",
      "Epoch 37/100\n",
      "263/263 [==============================] - 1s 5ms/step - loss: 0.0377 - accuracy: 0.9915 - val_loss: 0.0554 - val_accuracy: 0.9890\n",
      "Epoch 38/100\n",
      "263/263 [==============================] - 1s 5ms/step - loss: 0.0394 - accuracy: 0.9916 - val_loss: 0.0473 - val_accuracy: 0.9921\n",
      "Epoch 39/100\n",
      "263/263 [==============================] - 2s 6ms/step - loss: 0.0383 - accuracy: 0.9921 - val_loss: 0.0481 - val_accuracy: 0.9914\n",
      "Epoch 40/100\n",
      "263/263 [==============================] - 1s 5ms/step - loss: 0.0383 - accuracy: 0.9910 - val_loss: 0.0604 - val_accuracy: 0.9890\n",
      "Epoch 41/100\n",
      "263/263 [==============================] - 1s 5ms/step - loss: 0.0369 - accuracy: 0.9925 - val_loss: 0.0822 - val_accuracy: 0.9864\n",
      "Epoch 42/100\n",
      "263/263 [==============================] - 1s 5ms/step - loss: 0.0405 - accuracy: 0.9908 - val_loss: 0.0592 - val_accuracy: 0.9898\n",
      "Epoch 43/100\n",
      "263/263 [==============================] - 1s 5ms/step - loss: 0.0398 - accuracy: 0.9904 - val_loss: 0.0533 - val_accuracy: 0.9907\n",
      "Epoch 44/100\n",
      "263/263 [==============================] - 1s 5ms/step - loss: 0.0356 - accuracy: 0.9920 - val_loss: 0.0610 - val_accuracy: 0.9902\n",
      "Epoch 45/100\n",
      "263/263 [==============================] - 1s 5ms/step - loss: 0.0376 - accuracy: 0.9919 - val_loss: 0.0537 - val_accuracy: 0.9898\n",
      "Epoch 46/100\n",
      "263/263 [==============================] - 1s 5ms/step - loss: 0.0311 - accuracy: 0.9934 - val_loss: 0.0557 - val_accuracy: 0.9895\n",
      "Epoch 47/100\n",
      "263/263 [==============================] - 1s 5ms/step - loss: 0.0349 - accuracy: 0.9921 - val_loss: 0.0533 - val_accuracy: 0.9898\n",
      "Epoch 48/100\n",
      "263/263 [==============================] - 1s 5ms/step - loss: 0.0385 - accuracy: 0.9920 - val_loss: 0.0661 - val_accuracy: 0.9888\n",
      "Epoch 49/100\n",
      "263/263 [==============================] - 1s 5ms/step - loss: 0.0355 - accuracy: 0.9926 - val_loss: 0.0546 - val_accuracy: 0.9905\n",
      "Epoch 50/100\n",
      "263/263 [==============================] - 1s 5ms/step - loss: 0.0352 - accuracy: 0.9919 - val_loss: 0.0646 - val_accuracy: 0.9900\n",
      "Epoch 51/100\n",
      "263/263 [==============================] - 1s 5ms/step - loss: 0.0314 - accuracy: 0.9933 - val_loss: 0.0674 - val_accuracy: 0.9869\n",
      "Epoch 52/100\n",
      "263/263 [==============================] - 1s 5ms/step - loss: 0.0332 - accuracy: 0.9929 - val_loss: 0.0686 - val_accuracy: 0.9883\n",
      "Epoch 53/100\n",
      "263/263 [==============================] - 1s 5ms/step - loss: 0.0309 - accuracy: 0.9942 - val_loss: 0.0621 - val_accuracy: 0.9912\n",
      "Epoch 54/100\n",
      "263/263 [==============================] - 1s 5ms/step - loss: 0.0317 - accuracy: 0.9929 - val_loss: 0.0518 - val_accuracy: 0.9907\n",
      "Epoch 55/100\n",
      "263/263 [==============================] - 1s 5ms/step - loss: 0.0272 - accuracy: 0.9945 - val_loss: 0.0595 - val_accuracy: 0.9914\n",
      "Epoch 56/100\n",
      "263/263 [==============================] - 1s 5ms/step - loss: 0.0322 - accuracy: 0.9931 - val_loss: 0.0657 - val_accuracy: 0.9902\n",
      "Epoch 57/100\n",
      "263/263 [==============================] - 1s 5ms/step - loss: 0.0366 - accuracy: 0.9930 - val_loss: 0.0605 - val_accuracy: 0.9898\n",
      "Epoch 58/100\n",
      "263/263 [==============================] - 1s 5ms/step - loss: 0.0303 - accuracy: 0.9937 - val_loss: 0.0528 - val_accuracy: 0.9917\n",
      "Epoch 59/100\n",
      "263/263 [==============================] - 1s 5ms/step - loss: 0.0269 - accuracy: 0.9944 - val_loss: 0.0587 - val_accuracy: 0.9898\n",
      "Epoch 60/100\n",
      "263/263 [==============================] - 1s 5ms/step - loss: 0.0305 - accuracy: 0.9935 - val_loss: 0.0584 - val_accuracy: 0.9898\n",
      "Epoch 61/100\n",
      "263/263 [==============================] - 1s 5ms/step - loss: 0.0306 - accuracy: 0.9932 - val_loss: 0.0609 - val_accuracy: 0.9886\n",
      "Epoch 62/100\n",
      "263/263 [==============================] - 1s 5ms/step - loss: 0.0319 - accuracy: 0.9925 - val_loss: 0.0700 - val_accuracy: 0.9888\n",
      "Epoch 63/100\n",
      "263/263 [==============================] - 1s 5ms/step - loss: 0.0307 - accuracy: 0.9937 - val_loss: 0.0767 - val_accuracy: 0.9881\n",
      "Epoch 64/100\n",
      "263/263 [==============================] - 1s 5ms/step - loss: 0.0298 - accuracy: 0.9934 - val_loss: 0.0781 - val_accuracy: 0.9879\n",
      "Epoch 65/100\n",
      "263/263 [==============================] - 1s 5ms/step - loss: 0.0276 - accuracy: 0.9942 - val_loss: 0.0679 - val_accuracy: 0.9900\n",
      "Epoch 66/100\n",
      "263/263 [==============================] - 1s 5ms/step - loss: 0.0291 - accuracy: 0.9938 - val_loss: 0.0625 - val_accuracy: 0.9893\n",
      "Epoch 67/100\n",
      "263/263 [==============================] - 1s 5ms/step - loss: 0.0283 - accuracy: 0.9944 - val_loss: 0.0575 - val_accuracy: 0.9907\n",
      "Epoch 68/100\n",
      "263/263 [==============================] - 1s 5ms/step - loss: 0.0310 - accuracy: 0.9935 - val_loss: 0.0697 - val_accuracy: 0.9902\n",
      "Epoch 69/100\n",
      "263/263 [==============================] - 1s 5ms/step - loss: 0.0323 - accuracy: 0.9937 - val_loss: 0.1018 - val_accuracy: 0.9855\n",
      "Epoch 70/100\n",
      "263/263 [==============================] - 1s 5ms/step - loss: 0.0286 - accuracy: 0.9940 - val_loss: 0.0572 - val_accuracy: 0.9921\n",
      "Epoch 71/100\n",
      "263/263 [==============================] - 1s 5ms/step - loss: 0.0279 - accuracy: 0.9940 - val_loss: 0.0604 - val_accuracy: 0.9910\n",
      "Epoch 72/100\n",
      "263/263 [==============================] - 1s 5ms/step - loss: 0.0288 - accuracy: 0.9937 - val_loss: 0.0699 - val_accuracy: 0.9900\n",
      "Epoch 73/100\n",
      "263/263 [==============================] - 1s 5ms/step - loss: 0.0266 - accuracy: 0.9935 - val_loss: 0.0759 - val_accuracy: 0.9893\n",
      "Epoch 74/100\n",
      "263/263 [==============================] - 1s 5ms/step - loss: 0.0287 - accuracy: 0.9941 - val_loss: 0.0726 - val_accuracy: 0.9912\n",
      "Epoch 75/100\n",
      "263/263 [==============================] - 1s 5ms/step - loss: 0.0268 - accuracy: 0.9947 - val_loss: 0.0649 - val_accuracy: 0.9914\n",
      "Epoch 76/100\n",
      "263/263 [==============================] - 1s 5ms/step - loss: 0.0309 - accuracy: 0.9938 - val_loss: 0.0626 - val_accuracy: 0.9910\n",
      "Epoch 77/100\n",
      "263/263 [==============================] - 1s 5ms/step - loss: 0.0308 - accuracy: 0.9941 - val_loss: 0.0694 - val_accuracy: 0.9902\n",
      "Epoch 78/100\n",
      "263/263 [==============================] - 1s 5ms/step - loss: 0.0255 - accuracy: 0.9944 - val_loss: 0.0606 - val_accuracy: 0.9919\n",
      "Epoch 79/100\n",
      "263/263 [==============================] - 1s 5ms/step - loss: 0.0280 - accuracy: 0.9941 - val_loss: 0.0648 - val_accuracy: 0.9907\n",
      "Epoch 80/100\n",
      "263/263 [==============================] - 1s 5ms/step - loss: 0.0256 - accuracy: 0.9948 - val_loss: 0.0709 - val_accuracy: 0.9902\n",
      "Epoch 81/100\n",
      "263/263 [==============================] - 1s 5ms/step - loss: 0.0242 - accuracy: 0.9954 - val_loss: 0.0719 - val_accuracy: 0.9905\n",
      "Epoch 82/100\n",
      "263/263 [==============================] - 1s 5ms/step - loss: 0.0260 - accuracy: 0.9944 - val_loss: 0.0883 - val_accuracy: 0.9886\n",
      "Epoch 83/100\n",
      "263/263 [==============================] - 1s 5ms/step - loss: 0.0301 - accuracy: 0.9942 - val_loss: 0.0641 - val_accuracy: 0.9912\n",
      "Epoch 84/100\n",
      "263/263 [==============================] - 1s 5ms/step - loss: 0.0207 - accuracy: 0.9962 - val_loss: 0.0717 - val_accuracy: 0.9888\n",
      "Epoch 85/100\n",
      "263/263 [==============================] - 1s 5ms/step - loss: 0.0247 - accuracy: 0.9948 - val_loss: 0.0652 - val_accuracy: 0.9917\n",
      "Epoch 86/100\n",
      "263/263 [==============================] - 1s 5ms/step - loss: 0.0251 - accuracy: 0.9947 - val_loss: 0.0606 - val_accuracy: 0.9907\n",
      "Epoch 87/100\n",
      "263/263 [==============================] - 1s 5ms/step - loss: 0.0336 - accuracy: 0.9920 - val_loss: 0.0661 - val_accuracy: 0.9907\n",
      "Epoch 88/100\n",
      "263/263 [==============================] - 1s 5ms/step - loss: 0.0292 - accuracy: 0.9934 - val_loss: 0.0722 - val_accuracy: 0.9912\n",
      "Epoch 89/100\n",
      "263/263 [==============================] - 1s 5ms/step - loss: 0.0232 - accuracy: 0.9953 - val_loss: 0.0815 - val_accuracy: 0.9890\n",
      "Epoch 90/100\n",
      "263/263 [==============================] - 1s 5ms/step - loss: 0.0223 - accuracy: 0.9954 - val_loss: 0.0773 - val_accuracy: 0.9886\n",
      "Epoch 91/100\n",
      "263/263 [==============================] - 1s 5ms/step - loss: 0.0310 - accuracy: 0.9929 - val_loss: 0.0672 - val_accuracy: 0.9907\n",
      "Epoch 92/100\n",
      "263/263 [==============================] - 1s 5ms/step - loss: 0.0240 - accuracy: 0.9949 - val_loss: 0.0693 - val_accuracy: 0.9905\n",
      "Epoch 93/100\n",
      "263/263 [==============================] - 1s 5ms/step - loss: 0.0272 - accuracy: 0.9940 - val_loss: 0.0633 - val_accuracy: 0.9900\n",
      "Epoch 94/100\n",
      "263/263 [==============================] - 1s 5ms/step - loss: 0.0253 - accuracy: 0.9956 - val_loss: 0.0780 - val_accuracy: 0.9910\n",
      "Epoch 95/100\n",
      "263/263 [==============================] - 1s 5ms/step - loss: 0.0277 - accuracy: 0.9941 - val_loss: 0.0776 - val_accuracy: 0.9898\n",
      "Epoch 96/100\n",
      "263/263 [==============================] - 1s 5ms/step - loss: 0.0259 - accuracy: 0.9948 - val_loss: 0.0674 - val_accuracy: 0.9914\n",
      "Epoch 97/100\n",
      "263/263 [==============================] - 1s 5ms/step - loss: 0.0230 - accuracy: 0.9952 - val_loss: 0.0607 - val_accuracy: 0.9914\n",
      "Epoch 98/100\n",
      "263/263 [==============================] - 1s 5ms/step - loss: 0.0266 - accuracy: 0.9934 - val_loss: 0.0757 - val_accuracy: 0.9888\n",
      "Epoch 99/100\n",
      "263/263 [==============================] - 1s 5ms/step - loss: 0.0199 - accuracy: 0.9967 - val_loss: 0.0760 - val_accuracy: 0.9898\n",
      "Epoch 100/100\n",
      "263/263 [==============================] - 1s 5ms/step - loss: 0.0260 - accuracy: 0.9951 - val_loss: 0.0700 - val_accuracy: 0.9917\n"
     ]
    }
   ],
   "source": [
    "# Specify the optimizer\n",
    "opt = Adam(learning_rate=0.001)\n",
    "\n",
    "# Compile the model\n",
    "model.compile(optimizer = opt, loss = 'categorical_crossentropy', metrics = ['accuracy'])\n",
    "\n",
    "# Create the checkpoint to bag the best model\n",
    "checkpointer = ModelCheckpoint(filepath=\"mnist_model.h5\",\n",
    "                               verbose=0,\n",
    "                               save_best_only=True)\n",
    "\n",
    "# Fit the model\n",
    "history = model.fit(X_train_scaled, y_train, \n",
    "                    validation_data=(X_val_scaled, y_val),\n",
    "                    callbacks=[checkpointer],\n",
    "                    batch_size = 128,\n",
    "                    epochs = 100, \n",
    "                    verbose = 1)"
   ]
  },
  {
   "cell_type": "code",
   "execution_count": 14,
   "metadata": {
    "colab": {
     "base_uri": "https://localhost:8080/",
     "height": 281
    },
    "id": "LHB_daeBeXn-",
    "outputId": "1eeb046c-93f0-4a23-dc39-b448709810a1"
   },
   "outputs": [
    {
     "data": {
      "image/png": "[encoded data removed]",
      "text/plain": [
       "<Figure size 432x288 with 1 Axes>"
      ]
     },
     "metadata": {
      "needs_background": "light",
      "tags": []
     },
     "output_type": "display_data"
    }
   ],
   "source": [
    "def plot_loss_acc(history):\n",
    "    \"\"\"Plot accuracy and loss across the different epochs \"\"\"\n",
    "    # Plot loss\n",
    "    plt.plot(history.history[\"loss\"],label=\"train_loss\")\n",
    "    plt.plot(history.history[\"val_loss\"],label=\"val_loss\")\n",
    "    # Plot Accuracy\n",
    "    plt.plot(history.history[\"accuracy\"],label=\"train_acc\")\n",
    "    plt.plot(history.history[\"val_accuracy\"],label=\"val_acc\")\n",
    "    plt.title('Learning Curves')\n",
    "    plt.legend()\n",
    "    plt.show()\n",
    "\n",
    "plot_loss_acc(history)"
   ]
  },
  {
   "cell_type": "markdown",
   "metadata": {
    "id": "jZKKPQR6V3iM"
   },
   "source": [
    "## Performance Analysis"
   ]
  },
  {
   "cell_type": "code",
   "execution_count": 15,
   "metadata": {
    "id": "KEgmhVv02lcu"
   },
   "outputs": [],
   "source": [
    "# Load the trained model\n",
    "net = load_model(\"mnist_model.h5\")"
   ]
  },
  {
   "cell_type": "code",
   "execution_count": 16,
   "metadata": {
    "colab": {
     "base_uri": "https://localhost:8080/"
    },
    "id": "wMUHBS4EV3iO",
    "outputId": "0e20b56b-9426-42a9-90ad-03bc65af996f"
   },
   "outputs": [
    {
     "name": "stdout",
     "output_type": "stream",
     "text": [
      "              precision    recall  f1-score   support\n",
      "\n",
      "     class 0       1.00      1.00      1.00       405\n",
      "     class 1       0.99      0.99      0.99       455\n",
      "     class 2       1.00      0.99      0.99       424\n",
      "     class 3       0.99      0.99      0.99       448\n",
      "     class 4       0.99      0.97      0.98       388\n",
      "     class 5       1.00      0.99      1.00       364\n",
      "     class 6       0.98      1.00      0.99       389\n",
      "     class 7       0.99      0.99      0.99       457\n",
      "     class 8       0.98      0.99      0.99       442\n",
      "     class 9       0.99      1.00      0.99       428\n",
      "\n",
      "    accuracy                           0.99      4200\n",
      "   macro avg       0.99      0.99      0.99      4200\n",
      "weighted avg       0.99      0.99      0.99      4200\n",
      "\n"
     ]
    }
   ],
   "source": [
    "# Classification report\n",
    "class_names = ['class 0','class 1','class 2','class 3','class 4','class 5','class 6','class 7','class 8','class 9']\n",
    "\n",
    "# Test Accuracy\n",
    "y_pred = net.predict(tf.dtypes.cast(X_test_scaled, tf.float16))\n",
    "\n",
    "# Convert one-hot vectors to 0 or 1 label\n",
    "y_hat = np.argmax(y_pred, axis = 1)\n",
    "\n",
    "print(classification_report(y_test, y_hat, target_names=class_names))"
   ]
  },
  {
   "cell_type": "markdown",
   "metadata": {
    "id": "gmtSHhmgV3iP"
   },
   "source": [
    "## Error Analysis"
   ]
  },
  {
   "cell_type": "code",
   "execution_count": 17,
   "metadata": {
    "colab": {
     "base_uri": "https://localhost:8080/",
     "height": 424
    },
    "id": "VlEztV73V3iR",
    "outputId": "a8da2666-26f6-452a-eeca-a93e6238bef0"
   },
   "outputs": [
    {
     "data": {
      "image/png": "[encoded data removed]",
      "text/plain": [
       "<Figure size 432x432 with 2 Axes>"
      ]
     },
     "metadata": {
      "needs_background": "light",
      "tags": []
     },
     "output_type": "display_data"
    }
   ],
   "source": [
    "def plot_confusion_matrix(cm, classes, title='Confusion matrix', cmap=plt.cm.Blues):\n",
    "\n",
    "    plt.imshow(cm, interpolation='nearest', cmap=cmap)\n",
    "    plt.title(title)\n",
    "    plt.colorbar()\n",
    "    tick_marks = np.arange(len(classes))\n",
    "    plt.xticks(tick_marks, classes, rotation=45)\n",
    "    plt.yticks(tick_marks, classes)\n",
    "\n",
    "    fmt = 'd'\n",
    "    thresh = cm.max() / 2.\n",
    "    for i, j in itertools.product(range(cm.shape[0]), range(cm.shape[1])):\n",
    "        plt.text(j, i, format(cm[i, j], fmt), \n",
    "        horizontalalignment=\"center\",\n",
    "        color=\"white\" if cm[i, j] > thresh else \"black\")\n",
    "\n",
    "    plt.ylabel('True label')\n",
    "    plt.xlabel('Predicted label')\n",
    "    plt.tight_layout()\n",
    "\n",
    "\n",
    "# Compute confusion matrix\n",
    "cnf_matrix = confusion_matrix(y_test, y_hat)\n",
    "np.set_printoptions(precision=2)\n",
    "\n",
    "# Plot confusion matrix\n",
    "plt.figure(figsize=(6,6))\n",
    "plot_confusion_matrix(cnf_matrix, classes=class_names, title='Confusion matrix')\n",
    "\n",
    "plt.show()"
   ]
  },
  {
   "cell_type": "code",
   "execution_count": 18,
   "metadata": {
    "colab": {
     "base_uri": "https://localhost:8080/",
     "height": 334
    },
    "id": "S6aEr43fV3iT",
    "outputId": "8180af35-0385-4fe4-e826-61b61d69860c"
   },
   "outputs": [
    {
     "name": "stdout",
     "output_type": "stream",
     "text": [
      "Misclassifed images\n",
      "--------------------------------\n",
      "Total:   38\n"
     ]
    },
    {
     "data": {
      "image/png": "[encoded data removed]",
      "text/plain": [
       "<Figure size 360x360 with 38 Axes>"
      ]
     },
     "metadata": {
      "needs_background": "light",
      "tags": []
     },
     "output_type": "display_data"
    }
   ],
   "source": [
    "# Display misclassifed images and true labels\n",
    "indices_miscls = [idx for idx, elem in enumerate(zip(y_test.flatten(), y_hat.flatten())) if elem[0] != elem[1]]\n",
    "images_miscls = X_test[indices_miscls,:]\n",
    "labels_miscls = y_test[indices_miscls]\n",
    "display_images(images_miscls, labels_miscls, len(labels_miscls))\n",
    "print(\"Misclassifed images\")\n",
    "print(\"--------------------------------\")\n",
    "print(\"Total:   %d\" % len(indices_miscls))"
   ]
  },
  {
   "cell_type": "code",
   "execution_count": null,
   "metadata": {
    "id": "U5AxsUaw0H5L"
   },
   "outputs": [],
   "source": []
  }
 ],
 "metadata": {
  "accelerator": "GPU",
  "colab": {
   "machine_shape": "hm",
   "name": "3_CNN_MNIST_Classifier.ipynb",
   "provenance": []
  },
  "kernelspec": {
   "display_name": "Python 3",
   "language": "python",
   "name": "python3"
  },
  "language_info": {
   "codemirror_mode": {
    "name": "ipython",
    "version": 3
   },
   "file_extension": ".py",
   "mimetype": "text/x-python",
   "name": "python",
   "nbconvert_exporter": "python",
   "pygments_lexer": "ipython3",
   "version": "3.7.7"
  }
 },
 "nbformat": 4,
 "nbformat_minor": 1
}
